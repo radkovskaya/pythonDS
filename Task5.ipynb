{
 "cells": [
  {
   "cell_type": "markdown",
   "metadata": {},
   "source": [
    "**Задание 1**"
   ]
  },
  {
   "cell_type": "markdown",
   "metadata": {},
   "source": [
    "Задание 1\n",
    "Импортируйте библиотеки pandas, numpy и matplotlib.\n",
    "Загрузите \"Boston House Prices dataset\" из встроенных наборов данных библиотеки sklearn. \n",
    "Создайте датафреймы X и y из этих данных.\n",
    "\n",
    "Разбейте эти датафреймы на тренировочные (X_train, y_train) и тестовые (X_test, y_test)\n",
    "с помощью функции train_test_split так, чтобы размер тестовой выборки \n",
    "составлял 20% от всех данных, при этом аргумент random_state должен быть равен 42.\n",
    "\n",
    "Масштабируйте данные с помощью StandardScaler.\n",
    "\n",
    "Постройте модель TSNE на тренировочный данных с параметрами:\n",
    "n_components=2, learning_rate=250, random_state=42.\n",
    "\n",
    "Постройте диаграмму рассеяния на этих данных."
   ]
  },
  {
   "cell_type": "code",
   "execution_count": 2,
   "metadata": {},
   "outputs": [],
   "source": [
    "import numpy as np\n",
    "import pandas as pd"
   ]
  },
  {
   "cell_type": "code",
   "execution_count": 3,
   "metadata": {},
   "outputs": [],
   "source": [
    "from sklearn.datasets import load_boston\n",
    "boston = load_boston()"
   ]
  },
  {
   "cell_type": "code",
   "execution_count": 4,
   "metadata": {},
   "outputs": [],
   "source": [
    "data = boston.data\n",
    "feature_names = boston.feature_names\n",
    "target = boston.target"
   ]
  },
  {
   "cell_type": "code",
   "execution_count": 10,
   "metadata": {},
   "outputs": [],
   "source": [
    "X = pd.DataFrame(data, columns = feature_names)\n",
    "price = boston.target"
   ]
  },
  {
   "cell_type": "code",
   "execution_count": 6,
   "metadata": {},
   "outputs": [],
   "source": [
    "from sklearn.model_selection import train_test_split"
   ]
  },
  {
   "cell_type": "code",
   "execution_count": 11,
   "metadata": {},
   "outputs": [],
   "source": [
    "X_train, X_test, y_train, y_test = train_test_split(X, price, test_size = 0.2, random_state = 42)"
   ]
  },
  {
   "cell_type": "code",
   "execution_count": 12,
   "metadata": {},
   "outputs": [
    {
     "data": {
      "text/plain": [
       "((404, 13), (102, 13), (404,), (102,))"
      ]
     },
     "execution_count": 12,
     "metadata": {},
     "output_type": "execute_result"
    }
   ],
   "source": [
    "X_train.shape, X_test.shape, y_train.shape, y_test.shape"
   ]
  },
  {
   "cell_type": "code",
   "execution_count": 14,
   "metadata": {},
   "outputs": [],
   "source": [
    "from sklearn.preprocessing import StandardScaler"
   ]
  },
  {
   "cell_type": "code",
   "execution_count": 15,
   "metadata": {},
   "outputs": [],
   "source": [
    "scaler = StandardScaler()"
   ]
  },
  {
   "cell_type": "code",
   "execution_count": 16,
   "metadata": {},
   "outputs": [],
   "source": [
    "X_train_scaled = scaler.fit_transform(X_train)\n",
    "X_test_scaled = scaler.transform(X_test)\n",
    "X_train_scaled = pd.DataFrame(X_train_scaled, columns = feature_names)\n",
    "X_test_scaled = pd.DataFrame(X_test_scaled, columns = feature_names)"
   ]
  },
  {
   "cell_type": "code",
   "execution_count": 18,
   "metadata": {},
   "outputs": [],
   "source": [
    "from sklearn.manifold import TSNE\n",
    "tsne = TSNE(n_components=2, learning_rate=250, random_state=42)"
   ]
  },
  {
   "cell_type": "code",
   "execution_count": 20,
   "metadata": {},
   "outputs": [],
   "source": [
    "X_train_tsne = tsne.fit_transform(X_train_scaled)"
   ]
  },
  {
   "cell_type": "code",
   "execution_count": 21,
   "metadata": {},
   "outputs": [
    {
     "data": {
      "text/plain": [
       "array([[ 17.645624  ,  28.406218  ],\n",
       "       [  1.6133794 , -11.563689  ],\n",
       "       [-14.5985    , -16.157717  ],\n",
       "       [ 27.65398   ,  24.220755  ],\n",
       "       [  3.8739002 ,  -9.40449   ],\n",
       "       [ -2.0326433 , -15.587415  ],\n",
       "       [ -0.48839292, -14.178003  ],\n",
       "       [-23.318121  , -13.778156  ],\n",
       "       [ 27.593517  ,  25.564125  ],\n",
       "       [ 24.52684   ,  24.971394  ],\n",
       "       [ -0.4837361 , -14.802191  ],\n",
       "       [ -4.706522  ,  -6.1135483 ],\n",
       "       [ -7.6053567 ,  -2.4791708 ],\n",
       "       [ 25.225407  ,  24.14793   ],\n",
       "       [ -9.633202  ,  -3.0656078 ],\n",
       "       [  9.137457  ,  -6.7359676 ],\n",
       "       [  2.062477  ,  -6.3994236 ],\n",
       "       [-15.625919  , -16.7226    ],\n",
       "       [-10.261498  , -14.384683  ],\n",
       "       [-10.831577  , -18.551825  ],\n",
       "       [ 23.060835  ,  28.409035  ],\n",
       "       [  0.7136497 ,  -3.6644816 ],\n",
       "       [ -3.6749017 , -16.457159  ],\n",
       "       [ -0.679544  , -11.812288  ],\n",
       "       [-23.207016  , -14.088349  ],\n",
       "       [ -6.919917  ,  -2.852082  ],\n",
       "       [  0.6825832 ,  11.351543  ],\n",
       "       [-10.770264  ,  -0.20472825],\n",
       "       [ 10.583295  ,   0.22765376],\n",
       "       [ -5.7804885 , -17.695532  ],\n",
       "       [  7.957732  ,  -7.964237  ],\n",
       "       [  2.148698  ,  -2.9836314 ],\n",
       "       [  4.6584067 ,   7.3898306 ],\n",
       "       [ 25.634869  ,  22.957392  ],\n",
       "       [ -0.39163563, -13.360504  ],\n",
       "       [-24.441862  , -15.363624  ],\n",
       "       [-20.604704  , -16.363052  ],\n",
       "       [  7.8651547 ,  -6.925177  ],\n",
       "       [  7.4979253 ,  -7.5301757 ],\n",
       "       [-21.738724  , -15.69558   ],\n",
       "       [-21.49522   , -14.212095  ],\n",
       "       [ -3.375176  ,  11.218646  ],\n",
       "       [ 20.382504  ,  29.188753  ],\n",
       "       [ -9.068151  ,  -9.917607  ],\n",
       "       [  0.5581051 ,  11.986124  ],\n",
       "       [ 13.695167  ,  26.90457   ],\n",
       "       [  7.9654903 ,  -6.1092525 ],\n",
       "       [-11.524245  ,  -1.9049258 ],\n",
       "       [ 25.766977  ,  23.96436   ],\n",
       "       [ 13.513129  ,  26.033785  ],\n",
       "       [ -8.697685  ,  -7.5477195 ],\n",
       "       [  0.77918786,  -4.034682  ],\n",
       "       [ -3.6418715 , -13.287585  ],\n",
       "       [  0.6034344 , -13.8007    ],\n",
       "       [ 15.589681  ,  23.079151  ],\n",
       "       [ 11.395422  ,  24.207766  ],\n",
       "       [ -9.4159    ,  -7.139289  ],\n",
       "       [ 21.953056  ,  29.093699  ],\n",
       "       [ -4.3380294 ,  -6.6393795 ],\n",
       "       [-10.226517  , -14.657287  ],\n",
       "       [  3.6710372 ,  -7.6797104 ],\n",
       "       [ -0.8395302 , -11.168848  ],\n",
       "       [ -5.42717   ,   2.2978091 ],\n",
       "       [  7.201132  ,  -9.004209  ],\n",
       "       [ -8.699545  ,   2.8860877 ],\n",
       "       [ 15.057085  ,  25.292093  ],\n",
       "       [  8.191     ,  -7.324218  ],\n",
       "       [ -6.4485426 , -10.401477  ],\n",
       "       [ 12.730403  ,   4.083978  ],\n",
       "       [  5.8752546 ,  -7.7115145 ],\n",
       "       [ -1.4110134 , -12.168063  ],\n",
       "       [ -0.3348321 ,   3.3098702 ],\n",
       "       [ 13.588445  ,  22.47358   ],\n",
       "       [  1.9526694 ,  -4.1500626 ],\n",
       "       [  0.51720893,  -3.269706  ],\n",
       "       [ -7.860397  ,  -5.549253  ],\n",
       "       [-18.806541  , -16.913012  ],\n",
       "       [-10.909318  ,  -9.942303  ],\n",
       "       [  5.0390525 ,   7.3383093 ],\n",
       "       [ 17.939545  ,  30.51522   ],\n",
       "       [ 16.781612  ,  27.532946  ],\n",
       "       [  6.6457863 ,  21.411818  ],\n",
       "       [ -5.6269574 ,  12.949609  ],\n",
       "       [ -3.6681993 ,  13.125393  ],\n",
       "       [ 26.911505  ,  24.28983   ],\n",
       "       [ 13.66027   ,   2.2459564 ],\n",
       "       [  5.6704736 ,  20.710709  ],\n",
       "       [ -9.124995  , -17.564585  ],\n",
       "       [ 11.99224   ,  25.227118  ],\n",
       "       [  1.0658765 ,   4.082954  ],\n",
       "       [  2.484528  ,  -5.3329444 ],\n",
       "       [ 15.135074  ,  26.070633  ],\n",
       "       [ 16.149181  ,  29.889116  ],\n",
       "       [-20.667637  , -16.615925  ],\n",
       "       [-11.191927  , -18.734598  ],\n",
       "       [  6.20596   ,  -6.7505846 ],\n",
       "       [ 12.263321  ,  26.66117   ],\n",
       "       [  3.3512418 ,   7.8100963 ],\n",
       "       [ -9.16971   ,  -9.981119  ],\n",
       "       [  0.6068446 ,  12.090304  ],\n",
       "       [ -3.8398488 ,  12.993549  ],\n",
       "       [-12.82071   ,  -9.496288  ],\n",
       "       [-11.811906  , -12.19143   ],\n",
       "       [-11.085429  , -16.264904  ],\n",
       "       [  1.1762797 ,   4.578838  ],\n",
       "       [ -1.8993416 ,  14.298857  ],\n",
       "       [-23.611341  , -15.3278475 ],\n",
       "       [ -8.28916   ,  -2.3823168 ],\n",
       "       [ -3.2773385 , -15.255582  ],\n",
       "       [ -1.5707996 ,  -6.0048227 ],\n",
       "       [ 26.402485  ,  24.100643  ],\n",
       "       [-11.783585  , -20.232628  ],\n",
       "       [  1.4941878 ,  -4.891528  ],\n",
       "       [-23.502539  , -16.228285  ],\n",
       "       [-16.23464   , -16.521322  ],\n",
       "       [ 14.365488  ,  20.741886  ],\n",
       "       [  6.286833  ,  21.321156  ],\n",
       "       [ 16.805967  ,  29.454617  ],\n",
       "       [ -9.144915  ,  -0.86285615],\n",
       "       [ -7.823695  ,   3.045051  ],\n",
       "       [ -8.323613  ,  -2.4250839 ],\n",
       "       [ 18.55014   ,  29.678091  ],\n",
       "       [ 14.451853  ,  24.873308  ],\n",
       "       [ -1.769465  ,  -7.999725  ],\n",
       "       [-23.612007  , -17.602846  ],\n",
       "       [ 11.207485  ,   2.2663772 ],\n",
       "       [ 11.379046  ,  22.26523   ],\n",
       "       [-10.880827  , -14.599776  ],\n",
       "       [-19.568892  , -14.65669   ],\n",
       "       [ 15.308222  ,  29.555283  ],\n",
       "       [-10.583237  , -15.839066  ],\n",
       "       [ -0.35740578,  -2.9845998 ],\n",
       "       [ -8.038419  ,  -3.9510353 ],\n",
       "       [ -6.6683426 ,   2.7492585 ],\n",
       "       [ -7.1875043 , -12.067233  ],\n",
       "       [  4.79586   ,  20.483116  ],\n",
       "       [  6.346929  , -10.7496195 ],\n",
       "       [-17.492634  , -15.719525  ],\n",
       "       [  1.0227911 ,   3.354272  ],\n",
       "       [  3.500413  ,   5.9773946 ],\n",
       "       [ -5.0406046 ,  -4.596779  ],\n",
       "       [ 15.670337  ,  26.729506  ],\n",
       "       [ -3.7322073 ,  -7.3106675 ],\n",
       "       [ -1.3832729 ,  -5.1567497 ],\n",
       "       [ -6.4515533 , -10.381076  ],\n",
       "       [ 19.089983  ,  29.951862  ],\n",
       "       [  6.0208216 ,  -7.134229  ],\n",
       "       [-11.397511  , -11.2652    ],\n",
       "       [ -1.8033282 , -12.756048  ],\n",
       "       [  0.03179076,  -6.7012563 ],\n",
       "       [  1.4371458 ,   4.794762  ],\n",
       "       [ 16.598274  ,  25.790567  ],\n",
       "       [-22.220966  , -16.636028  ],\n",
       "       [ -6.2207704 , -14.361811  ],\n",
       "       [-23.409472  , -17.563791  ],\n",
       "       [ 13.478517  ,  28.007393  ],\n",
       "       [  2.8576841 ,   7.4165773 ],\n",
       "       [ 14.073651  ,  26.287779  ],\n",
       "       [  5.0181284 ,   7.35755   ],\n",
       "       [ 26.124914  ,  24.478271  ],\n",
       "       [-19.568567  , -15.106533  ],\n",
       "       [ 10.425307  ,   0.31588307],\n",
       "       [ 13.776274  ,   3.205682  ],\n",
       "       [ -4.8425407 ,  -6.6405573 ],\n",
       "       [  4.6877947 ,   7.029382  ],\n",
       "       [-15.78294   , -15.235686  ],\n",
       "       [-13.462446  , -10.798982  ],\n",
       "       [-10.106351  ,  -2.574141  ],\n",
       "       [-24.396414  , -13.514086  ],\n",
       "       [  9.778458  ,   0.75821054],\n",
       "       [ -5.956895  ,  -3.1162295 ],\n",
       "       [-24.12709   , -17.01638   ],\n",
       "       [-10.639426  , -16.894716  ],\n",
       "       [ 14.6904335 ,  20.997944  ],\n",
       "       [-16.150148  , -15.388107  ],\n",
       "       [-22.5574    , -11.69501   ],\n",
       "       [ 23.705584  ,  27.857628  ],\n",
       "       [ 17.698841  ,  27.589882  ],\n",
       "       [-22.70912   , -13.010142  ],\n",
       "       [  9.430017  ,   0.8843426 ],\n",
       "       [-12.12822   ,  -9.489076  ],\n",
       "       [ -4.858767  ,  -3.698771  ],\n",
       "       [ 16.472502  ,  24.161236  ],\n",
       "       [ -2.86729   ,  12.759159  ],\n",
       "       [ 12.0363    ,   2.4750254 ],\n",
       "       [ 27.259249  ,  22.900042  ],\n",
       "       [-21.43294   , -18.859957  ],\n",
       "       [-13.926727  , -15.67407   ],\n",
       "       [ 22.171349  ,  29.071693  ],\n",
       "       [ 13.782689  ,  21.647633  ],\n",
       "       [  6.380187  ,  21.252266  ],\n",
       "       [ -6.16204   , -12.858559  ],\n",
       "       [ -5.975648  , -13.85347   ],\n",
       "       [  5.493113  ,  20.672304  ],\n",
       "       [ 27.924006  ,  26.163073  ],\n",
       "       [  2.1019938 ,  -3.1823416 ],\n",
       "       [ -8.003103  ,  -4.3353457 ],\n",
       "       [  1.2845361 ,  -7.965412  ],\n",
       "       [ -6.9025607 , -17.212727  ],\n",
       "       [ -0.5043328 , -14.916372  ],\n",
       "       [ 14.44611   ,  21.541584  ],\n",
       "       [ 27.314144  ,  23.690153  ],\n",
       "       [-10.628197  ,  -1.6694812 ],\n",
       "       [ -1.7696552 ,  -3.6771564 ],\n",
       "       [  1.7650216 ,   3.3309875 ],\n",
       "       [ 11.4345045 ,   2.228454  ],\n",
       "       [-23.131008  , -17.452574  ],\n",
       "       [ -7.5258603 ,   3.4341154 ],\n",
       "       [-10.935261  ,  -1.6140671 ],\n",
       "       [  2.1213028 ,  -3.5631773 ],\n",
       "       [  9.1543665 ,   0.77827805],\n",
       "       [-23.061361  , -12.270786  ],\n",
       "       [-10.99667   ,  -2.1157515 ],\n",
       "       [ 18.952692  ,  29.285713  ],\n",
       "       [  0.41337496, -12.011096  ],\n",
       "       [ 11.854032  ,   2.601404  ],\n",
       "       [-20.412186  , -15.4638    ],\n",
       "       [ 27.151527  ,  26.225597  ],\n",
       "       [  5.704193  ,  -6.785462  ],\n",
       "       [ 18.64182   ,  30.698439  ],\n",
       "       [ 12.419327  ,  26.911041  ],\n",
       "       [ 11.550673  ,   2.9439182 ],\n",
       "       [ 20.420593  ,  26.022612  ],\n",
       "       [ -3.8291984 , -13.389628  ],\n",
       "       [  1.9302912 ,  -7.7875333 ],\n",
       "       [-22.032015  , -15.17107   ],\n",
       "       [-26.229471  , -17.88724   ],\n",
       "       [ -7.568955  ,  -6.707621  ],\n",
       "       [-14.388013  , -14.378845  ],\n",
       "       [ -9.504859  ,  -2.0606258 ],\n",
       "       [ 27.814491  ,  25.042368  ],\n",
       "       [  3.1434546 ,   5.543007  ],\n",
       "       [ -7.2217107 , -12.411359  ],\n",
       "       [ -1.9295104 ,  -7.7905316 ],\n",
       "       [  7.586323  ,  -8.696812  ],\n",
       "       [  1.7761467 ,   4.2558603 ],\n",
       "       [  0.90122175,  12.19403   ],\n",
       "       [ 14.225468  ,  27.058453  ],\n",
       "       [-12.634715  , -18.421253  ],\n",
       "       [ -3.3013685 ,  11.672582  ],\n",
       "       [ -7.124535  ,  -5.7230735 ],\n",
       "       [-13.27778   , -14.116454  ],\n",
       "       [-15.495843  , -14.447466  ],\n",
       "       [ 14.212322  ,  28.610218  ],\n",
       "       [ 16.58657   ,  27.573776  ],\n",
       "       [ -6.417267  ,  -3.8145733 ],\n",
       "       [ -3.5150006 , -16.929949  ],\n",
       "       [ 16.144144  ,  29.314531  ],\n",
       "       [ 13.720028  ,  25.220901  ],\n",
       "       [ -2.140486  , -10.651158  ],\n",
       "       [ -5.4841456 ,  13.528395  ],\n",
       "       [-22.666687  , -13.754981  ],\n",
       "       [ 26.644638  ,  25.768414  ],\n",
       "       [ -9.424631  ,  -7.028966  ],\n",
       "       [-24.327406  , -16.54773   ],\n",
       "       [ 11.897357  ,  28.033855  ],\n",
       "       [  5.72841   ,  -8.549585  ],\n",
       "       [-10.7973    ,  -2.399375  ],\n",
       "       [ 25.271616  ,  24.802462  ],\n",
       "       [ -2.5076063 , -12.014161  ],\n",
       "       [ 26.642687  ,  22.690844  ],\n",
       "       [  1.7274947 ,   3.7085562 ],\n",
       "       [ -9.338654  ,  -1.375301  ],\n",
       "       [-21.372234  , -18.830393  ],\n",
       "       [ -2.2876441 , -11.430153  ],\n",
       "       [-10.147502  , -13.972895  ],\n",
       "       [ -4.4549813 ,  -9.747681  ],\n",
       "       [ 10.041122  ,  -5.8971562 ],\n",
       "       [ -8.802866  ,   2.359663  ],\n",
       "       [ -0.91139543, -12.724939  ],\n",
       "       [-23.740246  , -15.506397  ],\n",
       "       [ 12.81239   ,  26.212692  ],\n",
       "       [  9.237072  ,  -6.917419  ],\n",
       "       [ 13.979035  ,  25.417265  ],\n",
       "       [ -2.8206844 ,  -6.2833595 ],\n",
       "       [ -7.1766415 ,   2.762872  ],\n",
       "       [-19.280157  , -14.446386  ],\n",
       "       [ -1.8964329 ,  14.168753  ],\n",
       "       [ 26.63173   ,  24.99113   ],\n",
       "       [ 12.089654  ,   2.147191  ],\n",
       "       [-11.275106  , -15.117359  ],\n",
       "       [ 10.912498  ,   2.5990663 ],\n",
       "       [ 10.795062  ,   2.8867974 ],\n",
       "       [ 12.856571  ,  21.604033  ],\n",
       "       [ -6.083645  ,  -9.814653  ],\n",
       "       [ -1.5721548 , -14.786977  ],\n",
       "       [ 15.302417  ,  22.3478    ],\n",
       "       [-12.34622   , -17.174803  ],\n",
       "       [-22.421144  , -16.261713  ],\n",
       "       [  7.091917  ,  -8.407794  ],\n",
       "       [  2.6305225 ,   7.6215286 ],\n",
       "       [-21.40774   , -18.531322  ],\n",
       "       [ 15.113932  ,  28.667782  ],\n",
       "       [ 15.164352  ,  21.279602  ],\n",
       "       [ 16.368557  ,  24.475677  ],\n",
       "       [ -3.0453951 ,  12.1771145 ],\n",
       "       [-16.545895  , -18.17428   ],\n",
       "       [ 16.145962  ,  27.468048  ],\n",
       "       [  6.2735643 , -10.6075115 ],\n",
       "       [  0.5938585 , -12.340224  ],\n",
       "       [ -3.8755984 ,  12.801387  ],\n",
       "       [ -0.07255328,  -7.252532  ],\n",
       "       [ -3.7190218 ,  11.77147   ],\n",
       "       [ -6.055711  , -14.668952  ],\n",
       "       [ 13.010927  ,  24.286278  ],\n",
       "       [-10.732421  , -18.84496   ],\n",
       "       [  2.1281621 ,  -6.9376626 ],\n",
       "       [ 13.785687  ,  23.058874  ],\n",
       "       [-16.933586  , -16.945887  ],\n",
       "       [-12.64767   , -18.262297  ],\n",
       "       [ -4.1486907 ,  11.937336  ],\n",
       "       [-21.672995  , -14.884693  ],\n",
       "       [ -1.0560913 ,   3.1349115 ],\n",
       "       [ -3.6975353 , -16.405678  ],\n",
       "       [ -1.7867326 ,  -2.4492953 ],\n",
       "       [ 14.583329  ,  27.768616  ],\n",
       "       [-18.743977  , -16.694708  ],\n",
       "       [ -0.62788904,  -5.1995068 ],\n",
       "       [ -6.7609377 ,   3.3641722 ],\n",
       "       [  6.3450427 ,  -6.021262  ],\n",
       "       [-14.093889  , -16.521465  ],\n",
       "       [ 16.525208  ,  26.9377    ],\n",
       "       [ -6.0326304 ,  -6.6914935 ],\n",
       "       [ 12.283213  ,  26.19403   ],\n",
       "       [ 12.995575  ,   3.8612678 ],\n",
       "       [ -4.3739343 , -10.290579  ],\n",
       "       [ 26.176355  ,  25.374374  ],\n",
       "       [-12.437479  , -11.889844  ],\n",
       "       [ -2.5644686 , -13.113328  ],\n",
       "       [ 10.086224  ,  -6.4482503 ],\n",
       "       [ 25.756214  ,  23.524921  ],\n",
       "       [ -7.3455195 ,   2.8537064 ],\n",
       "       [ 24.138363  ,  27.48806   ],\n",
       "       [ 17.533663  ,  24.64622   ],\n",
       "       [ -5.411764  ,  -5.380671  ],\n",
       "       [ -0.08771334, -12.73067   ],\n",
       "       [ 15.0937395 ,  24.12647   ],\n",
       "       [-14.7361    , -17.097597  ],\n",
       "       [ -9.449485  , -16.32435   ],\n",
       "       [ -7.249221  ,   3.316054  ],\n",
       "       [-13.693695  , -14.022446  ],\n",
       "       [  1.7671221 , -11.465984  ],\n",
       "       [ -0.15704627,  -5.957936  ],\n",
       "       [ -7.0604844 ,  -3.323365  ],\n",
       "       [ 18.125633  ,  29.913427  ],\n",
       "       [ -5.139817  ,  13.233779  ],\n",
       "       [ -1.2512845 ,   3.097668  ],\n",
       "       [ -5.903743  , -17.678688  ],\n",
       "       [  2.060098  ,  -5.7779236 ],\n",
       "       [ 12.021826  ,   1.4326168 ],\n",
       "       [-12.4763975 ,  -8.472531  ],\n",
       "       [ 14.164813  ,  22.692825  ],\n",
       "       [ -0.89632463,  -6.7689176 ],\n",
       "       [-15.224867  , -17.240332  ],\n",
       "       [-21.793758  , -11.635116  ],\n",
       "       [  6.70436   ,  21.191294  ],\n",
       "       [-13.313563  , -14.660628  ],\n",
       "       [ 12.76929   ,  24.856453  ],\n",
       "       [ -3.7274988 ,  -5.561384  ],\n",
       "       [ 26.975845  ,  25.187283  ],\n",
       "       [-18.20923   , -17.700813  ],\n",
       "       [  5.3910594 ,  -9.905982  ],\n",
       "       [ 12.2254095 ,  23.86768   ],\n",
       "       [-17.868793  , -17.940453  ],\n",
       "       [  0.9863372 ,   3.7834048 ],\n",
       "       [-10.744775  , -17.412365  ],\n",
       "       [  5.230384  ,  -3.5650327 ],\n",
       "       [-18.51355   , -15.454866  ],\n",
       "       [ -2.8652186 ,  -6.291296  ],\n",
       "       [-11.38868   , -19.499775  ],\n",
       "       [  7.386705  ,  -7.524107  ],\n",
       "       [ -1.485944  ,  -4.1821537 ],\n",
       "       [ 13.360553  ,  24.46373   ],\n",
       "       [ -1.7350154 ,  13.02668   ],\n",
       "       [ -5.440921  ,  13.078549  ],\n",
       "       [ 13.442569  ,  27.064947  ],\n",
       "       [-18.489956  , -16.489437  ],\n",
       "       [ 17.734327  ,  29.420155  ],\n",
       "       [ -5.5365844 , -14.664617  ],\n",
       "       [ 20.025652  ,  28.002676  ],\n",
       "       [-17.836485  , -14.480253  ],\n",
       "       [ -9.027123  ,   2.7889261 ],\n",
       "       [ -2.415798  ,  -3.5139768 ],\n",
       "       [  4.1267447 ,   6.834878  ],\n",
       "       [ 10.689643  ,   3.1299162 ],\n",
       "       [  3.5961695 ,   6.3498983 ],\n",
       "       [ 12.103833  ,  24.471277  ],\n",
       "       [ -8.856671  ,  -3.459912  ],\n",
       "       [  6.3385735 ,  20.749603  ],\n",
       "       [ -5.074609  ,  -7.432204  ],\n",
       "       [ 11.481541  ,  26.194225  ],\n",
       "       [ -6.131098  , -17.602451  ],\n",
       "       [  1.5377516 ,  -8.946768  ],\n",
       "       [ 26.76447   ,  23.434475  ],\n",
       "       [  9.325143  ,   0.8661271 ],\n",
       "       [  5.3930635 ,  -9.930861  ],\n",
       "       [  8.175103  ,  -5.775101  ],\n",
       "       [-17.859547  , -17.405205  ],\n",
       "       [ -3.2033823 , -14.741618  ],\n",
       "       [  6.583355  ,  -5.806122  ],\n",
       "       [ -3.7400517 , -12.121139  ],\n",
       "       [-23.043167  , -14.539998  ],\n",
       "       [ 25.83743   ,  25.512365  ],\n",
       "       [ 10.934939  ,  -6.745959  ]], dtype=float32)"
      ]
     },
     "execution_count": 21,
     "metadata": {},
     "output_type": "execute_result"
    }
   ],
   "source": [
    "X_train_tsne"
   ]
  },
  {
   "cell_type": "code",
   "execution_count": 22,
   "metadata": {},
   "outputs": [
    {
     "data": {
      "text/plain": [
       "(404, 2)"
      ]
     },
     "execution_count": 22,
     "metadata": {},
     "output_type": "execute_result"
    }
   ],
   "source": [
    "X_train_tsne.shape"
   ]
  },
  {
   "cell_type": "code",
   "execution_count": 28,
   "metadata": {},
   "outputs": [],
   "source": [
    "import matplotlib.pyplot as plt\n",
    "plt.style.use('fivethirtyeight')\n",
    "%config InluneBackend.figure_format = 'svg'\n",
    "%matplotlib inline"
   ]
  },
  {
   "cell_type": "code",
   "execution_count": 29,
   "metadata": {},
   "outputs": [
    {
     "data": {
      "text/plain": [
       "<matplotlib.collections.PathCollection at 0x11903095e10>"
      ]
     },
     "execution_count": 29,
     "metadata": {},
     "output_type": "execute_result"
    },
    {
     "data": {
      "image/png": "[encoded data removed]",
      "text/plain": [
       "<Figure size 432x288 with 1 Axes>"
      ]
     },
     "metadata": {
      "needs_background": "light"
     },
     "output_type": "display_data"
    }
   ],
   "source": [
    "plt.scatter(X_train_tsne[:,0], X_train_tsne[:,1])"
   ]
  },
  {
   "cell_type": "markdown",
   "metadata": {},
   "source": [
    "**Задание 2**"
   ]
  },
  {
   "cell_type": "markdown",
   "metadata": {},
   "source": [
    "С помощью KMeans разбейте данные из тренировочного набора на 3 кластера, \n",
    "используйте все признаки из датафрейма X_train.\n",
    "Параметр max_iter должен быть равен 100, random_state сделайте равным 42.\n",
    "\n",
    "Постройте еще раз диаграмму рассеяния на данных, полученных с помощью TSNE,\n",
    "и раскрасьте точки из разных кластеров разными цветами.\n",
    "\n",
    "Вычислите средние значения price и CRIM в разных кластерах."
   ]
  },
  {
   "cell_type": "code",
   "execution_count": 30,
   "metadata": {},
   "outputs": [],
   "source": [
    "from sklearn.cluster import KMeans"
   ]
  },
  {
   "cell_type": "code",
   "execution_count": 41,
   "metadata": {},
   "outputs": [],
   "source": [
    "kmeans = KMeans(n_clusters=3, max_iter = 100, random_state = 42)"
   ]
  },
  {
   "cell_type": "code",
   "execution_count": 42,
   "metadata": {},
   "outputs": [],
   "source": [
    "labels_train = kmeans.fit_predict(X_train_scaled)"
   ]
  },
  {
   "cell_type": "code",
   "execution_count": 43,
   "metadata": {},
   "outputs": [
    {
     "data": {
      "text/plain": [
       "2    191\n",
       "1    127\n",
       "0     86\n",
       "dtype: int64"
      ]
     },
     "execution_count": 43,
     "metadata": {},
     "output_type": "execute_result"
    }
   ],
   "source": [
    "pd.value_counts(labels_train)"
   ]
  },
  {
   "cell_type": "code",
   "execution_count": 44,
   "metadata": {},
   "outputs": [],
   "source": [
    "labels_test = kmeans.predict(X_test_scaled)"
   ]
  },
  {
   "cell_type": "code",
   "execution_count": 47,
   "metadata": {},
   "outputs": [
    {
     "data": {
      "text/plain": [
       "<matplotlib.collections.PathCollection at 0x11903009b00>"
      ]
     },
     "execution_count": 47,
     "metadata": {},
     "output_type": "execute_result"
    },
    {
     "data": {
      "image/png": "[encoded data removed]",
      "text/plain": [
       "<Figure size 432x288 with 1 Axes>"
      ]
     },
     "metadata": {
      "needs_background": "light"
     },
     "output_type": "display_data"
    }
   ],
   "source": [
    "plt.scatter(X_train_tsne[:, 0], X_train_tsne[:, 1], c = labels_train)"
   ]
  },
  {
   "cell_type": "code",
   "execution_count": 65,
   "metadata": {},
   "outputs": [
    {
     "data": {
      "text/plain": [
       "(0, 1)"
      ]
     },
     "execution_count": 65,
     "metadata": {},
     "output_type": "execute_result"
    },
    {
     "data": {
      "image/png": "[encoded data removed]",
      "text/plain": [
       "<Figure size 432x288 with 1 Axes>"
      ]
     },
     "metadata": {
      "needs_background": "light"
     },
     "output_type": "display_data"
    }
   ],
   "source": [
    "plt.hist(X_train.loc[labels_train == 0, \"CRIM\"], bins = 20, density = True, alpha=0.5)\n",
    "plt.hist(X_train.loc[labels_train == 1, \"CRIM\"], bins = 20, density = True, alpha=0.5)\n",
    "plt.hist(X_train.loc[labels_train == 2, \"CRIM\"], bins = 20, density = True, alpha=0.5)\n",
    "plt.xlim(0,1)"
   ]
  },
  {
   "cell_type": "code",
   "execution_count": 73,
   "metadata": {},
   "outputs": [
    {
     "data": {
      "text/plain": [
       "0.07356558139534886"
      ]
     },
     "execution_count": 73,
     "metadata": {},
     "output_type": "execute_result"
    }
   ],
   "source": [
    "X_train.loc[labels_train == 0, \"CRIM\"].mean()"
   ]
  },
  {
   "cell_type": "code",
   "execution_count": 74,
   "metadata": {},
   "outputs": [
    {
     "data": {
      "text/plain": [
       "10.797028425196853"
      ]
     },
     "execution_count": 74,
     "metadata": {},
     "output_type": "execute_result"
    }
   ],
   "source": [
    "X_train.loc[labels_train == 1, \"CRIM\"].mean()"
   ]
  },
  {
   "cell_type": "code",
   "execution_count": 76,
   "metadata": {},
   "outputs": [
    {
     "data": {
      "text/plain": [
       "0.42166020942408367"
      ]
     },
     "execution_count": 76,
     "metadata": {},
     "output_type": "execute_result"
    }
   ],
   "source": [
    "X_train.loc[labels_train == 2, \"CRIM\"].mean()"
   ]
  },
  {
   "cell_type": "code",
   "execution_count": 80,
   "metadata": {},
   "outputs": [
    {
     "data": {
      "text/plain": [
       "27.78837209302326"
      ]
     },
     "execution_count": 80,
     "metadata": {},
     "output_type": "execute_result"
    }
   ],
   "source": [
    "y_train[labels_train == 0].mean()"
   ]
  },
  {
   "cell_type": "code",
   "execution_count": 81,
   "metadata": {},
   "outputs": [
    {
     "data": {
      "text/plain": [
       "16.165354330708663"
      ]
     },
     "execution_count": 81,
     "metadata": {},
     "output_type": "execute_result"
    }
   ],
   "source": [
    "y_train[labels_train == 1].mean()"
   ]
  },
  {
   "cell_type": "code",
   "execution_count": 82,
   "metadata": {},
   "outputs": [
    {
     "data": {
      "text/plain": [
       "24.958115183246072"
      ]
     },
     "execution_count": 82,
     "metadata": {},
     "output_type": "execute_result"
    }
   ],
   "source": [
    "y_train[labels_train == 2].mean()"
   ]
  },
  {
   "cell_type": "markdown",
   "metadata": {},
   "source": [
    "**Задание 3**"
   ]
  },
  {
   "cell_type": "markdown",
   "metadata": {},
   "source": [
    "\n",
    "Примените модель KMeans, построенную в предыдущем задании,\n",
    "к данным из тестового набора.\n",
    "\n",
    "Вычислите средние значения price и CRIM в разных кластерах на тестовых данных."
   ]
  },
  {
   "cell_type": "code",
   "execution_count": 84,
   "metadata": {},
   "outputs": [],
   "source": [
    "labels_train1 = kmeans.fit_predict(X_test_scaled)"
   ]
  },
  {
   "cell_type": "code",
   "execution_count": 85,
   "metadata": {},
   "outputs": [
    {
     "data": {
      "text/plain": [
       "1    53\n",
       "2    35\n",
       "0    14\n",
       "dtype: int64"
      ]
     },
     "execution_count": 85,
     "metadata": {},
     "output_type": "execute_result"
    }
   ],
   "source": [
    "pd.value_counts(labels_train1)"
   ]
  },
  {
   "cell_type": "code",
   "execution_count": 88,
   "metadata": {},
   "outputs": [
    {
     "data": {
      "text/plain": [
       "0.08618571428571427"
      ]
     },
     "execution_count": 88,
     "metadata": {},
     "output_type": "execute_result"
    }
   ],
   "source": [
    "X_test.loc[labels_train1 == 0, \"CRIM\"].mean()"
   ]
  },
  {
   "cell_type": "code",
   "execution_count": 89,
   "metadata": {},
   "outputs": [
    {
     "data": {
      "text/plain": [
       "0.25200716981132076"
      ]
     },
     "execution_count": 89,
     "metadata": {},
     "output_type": "execute_result"
    }
   ],
   "source": [
    "X_test.loc[labels_train1 == 1, \"CRIM\"].mean()"
   ]
  },
  {
   "cell_type": "code",
   "execution_count": 91,
   "metadata": {},
   "outputs": [
    {
     "data": {
      "text/plain": [
       "10.165531142857143"
      ]
     },
     "execution_count": 91,
     "metadata": {},
     "output_type": "execute_result"
    }
   ],
   "source": [
    "X_test.loc[labels_train1 == 2, \"CRIM\"].mean()"
   ]
  },
  {
   "cell_type": "code",
   "execution_count": 93,
   "metadata": {},
   "outputs": [
    {
     "data": {
      "text/plain": [
       "33.871428571428574"
      ]
     },
     "execution_count": 93,
     "metadata": {},
     "output_type": "execute_result"
    }
   ],
   "source": [
    "y_test[labels_train1 == 0].mean()"
   ]
  },
  {
   "cell_type": "code",
   "execution_count": 94,
   "metadata": {},
   "outputs": [
    {
     "data": {
      "text/plain": [
       "21.552830188679245"
      ]
     },
     "execution_count": 94,
     "metadata": {},
     "output_type": "execute_result"
    }
   ],
   "source": [
    "y_test[labels_train1 == 1].mean()"
   ]
  },
  {
   "cell_type": "code",
   "execution_count": 95,
   "metadata": {},
   "outputs": [
    {
     "data": {
      "text/plain": [
       "16.43714285714286"
      ]
     },
     "execution_count": 95,
     "metadata": {},
     "output_type": "execute_result"
    }
   ],
   "source": [
    "y_test[labels_train1 == 2].mean()"
   ]
  },
  {
   "cell_type": "code",
   "execution_count": null,
   "metadata": {},
   "outputs": [],
   "source": []
  }
 ],
 "metadata": {
  "kernelspec": {
   "display_name": "Python 3",
   "language": "python",
   "name": "python3"
  },
  "language_info": {
   "codemirror_mode": {
    "name": "ipython",
    "version": 3
   },
   "file_extension": ".py",
   "mimetype": "text/x-python",
   "name": "python",
   "nbconvert_exporter": "python",
   "pygments_lexer": "ipython3",
   "version": "3.7.1"
  }
 },
 "nbformat": 4,
 "nbformat_minor": 2
}
